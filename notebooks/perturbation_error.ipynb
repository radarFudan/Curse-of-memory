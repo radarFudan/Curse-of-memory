{
 "cells": [
  {
   "cell_type": "code",
   "execution_count": null,
   "metadata": {},
   "outputs": [],
   "source": [
    "import glob\n",
    "import os\n",
    "\n",
    "import matplotlib.pyplot as plt\n",
    "import numpy as np\n",
    "import pandas as pd"
   ]
  },
  {
   "cell_type": "code",
   "execution_count": null,
   "metadata": {},
   "outputs": [],
   "source": [
    "# Expect stable approximation\n",
    "\n",
    "# Specify the directory to search\n",
    "activation_list = [\"linear\", \"hardtanh\", \"tanh\"]\n",
    "model_list = [\"diagonalrnn\", \"rnn\", \"softplusrnn\", \"lru\", \"ssm\", \"softplusssm\", \"s4\"]\n",
    "rho_name_list = [\"exp\", \"pol\"]\n",
    "\n",
    "index_0, index_1, index_2 = 0, 5, 1\n",
    "\n",
    "activation = activation_list[index_0]\n",
    "model = model_list[index_1]\n",
    "rho_name = rho_name_list[index_2]"
   ]
  },
  {
   "cell_type": "code",
   "execution_count": null,
   "metadata": {},
   "outputs": [],
   "source": [
    "from datetime import datetime\n",
    "\n",
    "# Read all directories\n",
    "directories = glob.glob(f\"../logs/LF_{activation}_{model}_{rho_name}_PERTURB/runs/*\")\n",
    "\n",
    "# Define a function to parse the date label from a directory name\n",
    "\n",
    "\n",
    "def parse_date_from_dir(dir_name):\n",
    "    # Assume the date is at the end of the directory name in the format of YYYYMMDD\n",
    "    date_str = os.path.basename(dir_name)\n",
    "\n",
    "    # Modify the following line if your date format is different\n",
    "    return datetime.strptime(date_str, \"%Y%m%d\")\n",
    "\n",
    "\n",
    "# Sort the directories based on their date labels in descending order\n",
    "directories.sort(key=parse_date_from_dir, reverse=True)\n",
    "\n",
    "# The first directory is the latest one\n",
    "latest_directory = directories[0]\n",
    "print(f\"Latest directory: {latest_directory}\")"
   ]
  },
  {
   "cell_type": "code",
   "execution_count": null,
   "metadata": {},
   "outputs": [],
   "source": [
    "# date = glob.glob(f\"../logs/LF_{activation}_{model}_{rho_name}_PERTURB/runs/*\")\n",
    "\n",
    "# path = f\"../logs/LF_{activation}_{model}_{rho_name}_PERTURB/runs/20230716\"  # Very stable\n",
    "path = latest_directory"
   ]
  },
  {
   "cell_type": "code",
   "execution_count": null,
   "metadata": {},
   "outputs": [],
   "source": [
    "# Set the directory names, which in this case are also the hidden dimensions\n",
    "hidden_dims = [\"8\", \"16\", \"32\", \"64\"]\n",
    "# hidden_dims = [\"8\", \"16\", \"32\"]\n",
    "\n",
    "# read the directory list in current directory\n",
    "timestamps = [name for name in os.listdir(path) if os.path.isdir(os.path.join(path, name))]\n",
    "# sort the timestamps\n",
    "timestamps.sort()\n",
    "print(timestamps)\n",
    "# timestamps = timestamps[:4]\n",
    "# timestamps = timestamps[4:8]\n",
    "timestamps = timestamps[-4:]\n",
    "\n",
    "plt.figure(figsize=(10, 8), dpi=256)\n",
    "\n",
    "for index, (dim, timestamp) in enumerate(zip(hidden_dims, timestamps)):\n",
    "    # Read the data from the CSV file\n",
    "    data = pd.read_csv(os.path.join(path, timestamp, \"perturbation_error.csv\"))\n",
    "\n",
    "    # Plot the data\n",
    "    # print(data[\"perturbation_error\"])\n",
    "    data[\"perturbation\"][0] = 1e-4\n",
    "    plt.plot(data[\"perturbation\"], data[\"perturbation_error\"], label=f\"Hidden Dimension {dim}\")\n",
    "\n",
    "\n",
    "# Add title and labels\n",
    "plt.title(\"Perturbation Error for Different Hidden Dimensions\")\n",
    "plt.xlabel(\"Perturbation\")\n",
    "plt.ylabel(\"Perturbation error\")\n",
    "\n",
    "plt.xscale(\"log\")\n",
    "plt.yscale(\"log\")\n",
    "# plt.ylim([1e-4, 1e7])\n",
    "# plt.ylim([1e-6, 1e7])\n",
    "# plt.ylim([1e0, 1e2])\n",
    "\n",
    "# Add legend\n",
    "plt.legend()\n",
    "\n",
    "# Show the plot\n",
    "plt.savefig(os.path.join(path, \"perturbation_error.pdf\"))\n",
    "plt.savefig(os.path.join(path, \"perturbation_error.png\"))\n",
    "plt.show()"
   ]
  },
  {
   "cell_type": "code",
   "execution_count": null,
   "metadata": {},
   "outputs": [],
   "source": []
  }
 ],
 "metadata": {
  "kernelspec": {
   "display_name": "lh",
   "language": "python",
   "name": "python3"
  },
  "language_info": {
   "codemirror_mode": {
    "name": "ipython",
    "version": 3
   },
   "file_extension": ".py",
   "mimetype": "text/x-python",
   "name": "python",
   "nbconvert_exporter": "python",
   "pygments_lexer": "ipython3",
   "version": "3.9.16"
  }
 },
 "nbformat": 4,
 "nbformat_minor": 2
}
