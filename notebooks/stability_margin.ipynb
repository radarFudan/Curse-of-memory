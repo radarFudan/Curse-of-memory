{
 "cells": [
  {
   "cell_type": "code",
   "execution_count": null,
   "metadata": {},
   "outputs": [],
   "source": [
    "import sys\n",
    "\n",
    "# Append it to sys.path\n",
    "sys.path.append(\"../\")"
   ]
  },
  {
   "cell_type": "code",
   "execution_count": null,
   "metadata": {},
   "outputs": [],
   "source": [
    "import glob\n",
    "import os\n",
    "\n",
    "import hydra\n",
    "import torch\n",
    "import yaml\n",
    "from hydra import compose, initialize\n",
    "from lightning import LightningModule\n",
    "from omegaconf import OmegaConf\n",
    "\n",
    "# Specify the directory to search\n",
    "activation_list = [\"linear\", \"hardtanh\", \"tanh\"]\n",
    "model_list = [\"diagonalrnn\", \"rnn\", \"softplusrnn\"]\n",
    "rho_name_list = [\"exp\", \"pol\"]\n",
    "\n",
    "index_0, index_1, index_2 = 0, 2, 1\n",
    "\n",
    "activation = activation_list[index_0]\n",
    "model = model_list[index_1]\n",
    "rho_name = rho_name_list[index_2]\n",
    "\n",
    "directory = f\"../logs/LF_{activation}_{model}_{rho_name}\"  # Stable\n",
    "\n",
    "# Use glob to get all the .ckpt files\n",
    "ckpt_files = glob.glob(f\"{directory}/**/last.ckpt\", recursive=True)\n",
    "\n",
    "# Now sort the files based on their last modified time\n",
    "ckpt_files.sort(key=os.path.getmtime)\n",
    "\n",
    "print(ckpt_files)\n",
    "pathlist = ckpt_files"
   ]
  },
  {
   "cell_type": "code",
   "execution_count": null,
   "metadata": {},
   "outputs": [],
   "source": [
    "cfg_path = os.path.join(os.path.dirname(os.path.dirname(pathlist[0])), \".hydra/\")\n",
    "# print(cfg_path)\n",
    "with initialize(version_base=\"1.3\", config_path=cfg_path):\n",
    "    cfg = compose(config_name=\"config\", overrides=[])\n",
    "    # print(OmegaConf.to_yaml(cfg))"
   ]
  },
  {
   "cell_type": "code",
   "execution_count": null,
   "metadata": {},
   "outputs": [],
   "source": [
    "stability_margin_path = os.path.join(directory, \"stability_margin.txt\")\n",
    "\n",
    "with open(stability_margin_path, \"w\") as file:\n",
    "    for path in pathlist:\n",
    "        # path = pathlist[0]\n",
    "        cfg_path = os.path.join(os.path.dirname(os.path.dirname(path)), \".hydra/\")\n",
    "\n",
    "        with initialize(version_base=\"1.3\", config_path=cfg_path):\n",
    "            # print(\"Path is \", path)\n",
    "            cfg = compose(config_name=\"config\", overrides=[])\n",
    "\n",
    "            model: LightningModule = hydra.utils.instantiate(cfg[\"model\"])\n",
    "            model_ckpt = torch.load(path)[\"state_dict\"]\n",
    "            model.load_state_dict(model_ckpt)\n",
    "            stability_margin = model.net.stability_margin()\n",
    "            print(\"Current stability margin: \", stability_margin.detach().numpy())\n",
    "            file.write(str(stability_margin.detach().numpy()) + \"\\n\")"
   ]
  },
  {
   "cell_type": "code",
   "execution_count": null,
   "metadata": {},
   "outputs": [],
   "source": [
    "for path in pathlist:\n",
    "    # path = pathlist[0]\n",
    "    cfg_path = os.path.join(os.path.dirname(os.path.dirname(path)), \".hydra/\")\n",
    "    ckpt_best_path = torch.load(path)[\"callbacks\"][\n",
    "        \"ModelCheckpoint{'monitor': 'val/loss', 'mode': 'min', 'every_n_train_steps': 0, 'every_n_epochs': 1, 'train_time_interval': None}\"\n",
    "    ][\"best_model_path\"]\n",
    "    with initialize(version_base=\"1.3\", config_path=cfg_path):\n",
    "        # print(\"Path is \", path)\n",
    "        cfg = compose(config_name=\"config\", overrides=[])\n",
    "\n",
    "        model: LightningModule = hydra.utils.instantiate(cfg[\"model\"])\n",
    "        model_ckpt = torch.load(ckpt_best_path)[\"state_dict\"]\n",
    "        model.load_state_dict(model_ckpt)\n",
    "        stability_margin = model.net.stability_margin()\n",
    "\n",
    "    loss = torch.load(path)[\"callbacks\"][\n",
    "        \"ModelCheckpoint{'monitor': 'val/loss', 'mode': 'min', 'every_n_train_steps': 0, 'every_n_epochs': 1, 'train_time_interval': None}\"\n",
    "    ][\"best_model_score\"]\n",
    "    print(\"Best stability margin:\", float(stability_margin))"
   ]
  },
  {
   "cell_type": "code",
   "execution_count": null,
   "metadata": {},
   "outputs": [],
   "source": [
    "for path in pathlist:\n",
    "    # path = pathlist[0]\n",
    "    cfg_path = os.path.join(os.path.dirname(os.path.dirname(path)), \".hydra/\")\n",
    "    ckpt_best_path = torch.load(path)[\"callbacks\"][\n",
    "        \"ModelCheckpoint{'monitor': 'val/loss', 'mode': 'min', 'every_n_train_steps': 0, 'every_n_epochs': 1, 'train_time_interval': None}\"\n",
    "    ][\"best_model_path\"]\n",
    "    with initialize(version_base=\"1.3\", config_path=cfg_path):\n",
    "        # print(\"Path is \", path)\n",
    "        cfg = compose(config_name=\"config\", overrides=[])\n",
    "\n",
    "        model: LightningModule = hydra.utils.instantiate(cfg[\"model\"])\n",
    "        model_ckpt = torch.load(ckpt_best_path)[\"state_dict\"]\n",
    "        model.load_state_dict(model_ckpt)\n",
    "        stability_margin = model.net.stability_margin()\n",
    "\n",
    "    loss = torch.load(path)[\"callbacks\"][\n",
    "        \"ModelCheckpoint{'monitor': 'val/loss', 'mode': 'min', 'every_n_train_steps': 0, 'every_n_epochs': 1, 'train_time_interval': None}\"\n",
    "    ][\"best_model_score\"]\n",
    "    print(\"Loss:            \", float(loss))\n",
    "    print(\"Stability margin:\", float(stability_margin))\n",
    "    print(\"Regularized loss:\", float(loss - stability_margin * 0.01), \"\\n\")"
   ]
  },
  {
   "cell_type": "code",
   "execution_count": null,
   "metadata": {},
   "outputs": [],
   "source": []
  }
 ],
 "metadata": {
  "kernelspec": {
   "display_name": "lh",
   "language": "python",
   "name": "python3"
  },
  "language_info": {
   "codemirror_mode": {
    "name": "ipython",
    "version": 3
   },
   "file_extension": ".py",
   "mimetype": "text/x-python",
   "name": "python",
   "nbconvert_exporter": "python",
   "pygments_lexer": "ipython3",
   "version": "3.9.17"
  }
 },
 "nbformat": 4,
 "nbformat_minor": 2
}
