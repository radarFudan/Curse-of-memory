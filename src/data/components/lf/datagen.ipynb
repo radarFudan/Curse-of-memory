{
 "cells": [
  {
   "cell_type": "code",
   "execution_count": 33,
   "metadata": {},
   "outputs": [],
   "source": [
    "import numpy as np\n",
    "import time"
   ]
  },
  {
   "cell_type": "code",
   "execution_count": 34,
   "metadata": {},
   "outputs": [
    {
     "name": "stdout",
     "output_type": "stream",
     "text": [
      "Expected [0.23121461 0.90126523 1.85141999 2.22965209 2.43187551 3.36283709\n",
      " 3.76105648 4.05793496 4.83850976 5.74773182]\n",
      "Result [0.23121461 0.90126523 1.85141999 2.22965209 2.43187551 3.36283709\n",
      " 3.76105648 4.05793496 4.83850976 5.74773182]\n",
      "Test passed!\n"
     ]
    }
   ],
   "source": [
    "# Use cumulative sum to understand FFT and IFFT. \n",
    "\n",
    "def fft_cumsum(x):\n",
    "    h = np.ones_like(x)\n",
    "    x_padded = np.concatenate((x, np.zeros_like(x)))\n",
    "    h_padded = np.concatenate((h, np.zeros_like(h)))\n",
    "\n",
    "    x_fft = np.fft.fft(x_padded)\n",
    "    h_fft = np.fft.fft(h_padded)\n",
    "\n",
    "    result_fft = x_fft * h_fft\n",
    "    conv_result = np.fft.ifft(result_fft)\n",
    "\n",
    "    return np.real(conv_result[:len(x)])\n",
    "\n",
    "def test_fft_cumsum():\n",
    "    # Generate a random sequence of length 10\n",
    "    x = np.random.rand(10)\n",
    "\n",
    "    expected = np.cumsum(x)\n",
    "    result = fft_cumsum(x)\n",
    "\n",
    "    print(\"Expected\", expected)\n",
    "    print(\"Result\", result)\n",
    "    assert np.allclose(result, expected), f\"Expected {expected}, but got {result}\"\n",
    "\n",
    "    print(\"Test passed!\")\n",
    "\n",
    "test_fft_cumsum()"
   ]
  },
  {
   "cell_type": "code",
   "execution_count": 35,
   "metadata": {},
   "outputs": [],
   "source": [
    "import numpy as np\n",
    "\n",
    "def fft_convolve(inputs, rho, dt):\n",
    "    seq_length, input_dim = inputs.shape[1], inputs.shape[2]\n",
    "    # Create the rho values for the entire sequence length\n",
    "    rho_vals = np.array([rho(t * dt) for t in range(seq_length)])\n",
    "    \n",
    "    # Pad the sequences to avoid circular convolution\n",
    "    padded_rho = np.concatenate((rho_vals, np.zeros_like(rho_vals)))\n",
    "    padded_inputs = np.concatenate((inputs, np.zeros((inputs.shape[0], seq_length, input_dim))), axis=1)\n",
    "\n",
    "    # FFT\n",
    "    rho_fft = np.fft.fft(padded_rho)\n",
    "    inputs_fft = np.fft.fft(padded_inputs, axis=1)\n",
    "    \n",
    "    # Element-wise multiplication in frequency domain\n",
    "    result_fft = inputs_fft * rho_fft[np.newaxis, :, np.newaxis]\n",
    "    \n",
    "    # Inverse FFT\n",
    "    conv_result = np.fft.ifft(result_fft, axis=1)\n",
    "    \n",
    "    # Return the result up to seq_length\n",
    "    return np.real(conv_result[:, :seq_length, :])"
   ]
  },
  {
   "cell_type": "code",
   "execution_count": 36,
   "metadata": {},
   "outputs": [
    {
     "name": "stdout",
     "output_type": "stream",
     "text": [
      "seq_length 1000\n",
      "Direct Convolution Time: 0.88918 seconds\n",
      "FFT-Based Convolution Time: 0.00360 seconds\n",
      "Test passed!\n",
      "seq_length 2000\n",
      "Direct Convolution Time: 3.60309 seconds\n",
      "FFT-Based Convolution Time: 0.00773 seconds\n",
      "Test passed!\n",
      "seq_length 4000\n",
      "Direct Convolution Time: 14.37242 seconds\n",
      "FFT-Based Convolution Time: 0.01525 seconds\n",
      "Test passed!\n"
     ]
    }
   ],
   "source": [
    "def test_convolution(dt, size, seq_length, input_dim, rho, Gaussian_input=False):\n",
    "    inputs = dt * np.random.normal(size=(size, seq_length, input_dim))\n",
    "\n",
    "    if Gaussian_input:\n",
    "        inputs = np.cumsum(inputs, axis=1)\n",
    "\n",
    "    # Time and execute the direct convolution\n",
    "    start_time_direct = time.time()\n",
    "    outputs = []\n",
    "    for t in range(seq_length):\n",
    "        output = 0\n",
    "        for s in range(t + 1):\n",
    "            output += inputs[:, t - s, :] * (rho(s * dt))\n",
    "        outputs.append(output)\n",
    "    direct_outputs = np.array(outputs).transpose(1, 0, 2)\n",
    "    end_time_direct = time.time()\n",
    "\n",
    "    # Time and execute the FFT-based convolution\n",
    "    start_time_fft = time.time()\n",
    "    fft_outputs = fft_convolve(inputs, rho, dt)\n",
    "    end_time_fft = time.time()\n",
    "\n",
    "    print(f\"Direct Convolution Time: {end_time_direct - start_time_direct:.5f} seconds\")\n",
    "    print(f\"FFT-Based Convolution Time: {end_time_fft - start_time_fft:.5f} seconds\")\n",
    "\n",
    "    assert np.allclose(direct_outputs, fft_outputs), f\"Direct method and FFT-based method outputs do not match!\"\n",
    "    print(\"Test passed!\")\n",
    "\n",
    "# Test\n",
    "rho = lambda t: np.exp(-t)\n",
    "dt = 1.0\n",
    "size = 100\n",
    "seq_length = 1000\n",
    "input_dim = 1\n",
    "Gaussian_input = False\n",
    "print(\"seq_length\", seq_length)\n",
    "test_convolution(dt, size, seq_length, input_dim, rho, Gaussian_input)\n",
    "\n",
    "rho = lambda t: np.exp(-t)\n",
    "dt = 1.0\n",
    "size = 100\n",
    "seq_length = 2000\n",
    "input_dim = 1\n",
    "Gaussian_input = False\n",
    "print(\"seq_length\", seq_length)\n",
    "test_convolution(dt, size, seq_length, input_dim, rho, Gaussian_input)\n",
    "\n",
    "rho = lambda t: np.exp(-t)\n",
    "dt = 1.0\n",
    "size = 100\n",
    "seq_length = 4000\n",
    "input_dim = 1\n",
    "Gaussian_input = False\n",
    "print(\"seq_length\", seq_length)\n",
    "test_convolution(dt, size, seq_length, input_dim, rho, Gaussian_input)\n"
   ]
  },
  {
   "cell_type": "code",
   "execution_count": null,
   "metadata": {},
   "outputs": [],
   "source": []
  }
 ],
 "metadata": {
  "kernelspec": {
   "display_name": "mixed",
   "language": "python",
   "name": "python3"
  },
  "language_info": {
   "codemirror_mode": {
    "name": "ipython",
    "version": 3
   },
   "file_extension": ".py",
   "mimetype": "text/x-python",
   "name": "python",
   "nbconvert_exporter": "python",
   "pygments_lexer": "ipython3",
   "version": "3.11.4"
  },
  "orig_nbformat": 4
 },
 "nbformat": 4,
 "nbformat_minor": 2
}
